{
 "cells": [
  {
   "cell_type": "code",
   "execution_count": null,
   "metadata": {},
   "outputs": [],
   "source": [
    "# Format DataDrame\n",
    "\n",
    "ride_summary_df [\"Total Rides\"] = ride_summary_df [\"Total Rides\"].map (\"{:,}\".format)\n",
    "\n",
    "ride_summary_df [\"Total Drivers\"] = ride_summary_df [\"Total Drivers\"].map (\"{:,}\".format)\n",
    "\n",
    "ride_summary_df [\"Total Fares\"] = ride_summary_df [\"Total Fares\"].map (\"${:,.2f}\".format)\n",
    "\n",
    "ride_summary_df [\"Average Fare per Ride\"] = ride_summary_df [\"Average Fare per Ride\"].map (\"${:.2f}\".format)\n",
    "\n",
    "ride_summary_df [\"Average Fare per Driver\"] = ride_summary_df [\"Average Fare per Driver\"].map (\"${:.2f}\".format)\n",
    "\n"
   ]
  }
 ],
 "metadata": {
  "kernelspec": {
   "display_name": "Python 3",
   "language": "python",
   "name": "python3"
  },
  "language_info": {
   "codemirror_mode": {
    "name": "ipython",
    "version": 3
   },
   "file_extension": ".py",
   "mimetype": "text/x-python",
   "name": "python",
   "nbconvert_exporter": "python",
   "pygments_lexer": "ipython3",
   "version": "3.7.6"
  }
 },
 "nbformat": 4,
 "nbformat_minor": 4
}
